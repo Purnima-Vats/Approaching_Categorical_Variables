{
 "cells": [
  {
   "cell_type": "markdown",
   "id": "09fecbe3",
   "metadata": {},
   "source": [
    "# Approaching Categorical Variables\n",
    "\n",
    "### What are Categorical Variables ?\n",
    "\n",
    "There are two types of catgorical variables:\n",
    "\n",
    "1. <b>Nominal Variables</b> are variables that have two or more categories which do not have any kind of order associated with them. For example, gender \n",
    "\n",
    "2. <b>Ordinal Variables</b> have “levels” or categories with a particular order associated with them.  \n",
    "For e.g., low, medium, high. Order is important\n",
    "\n",
    "#### Another classification\n",
    "\n",
    "1. Binary: True and False\n",
    "2. Cycle: Days of a week\n"
   ]
  },
  {
   "cell_type": "code",
   "execution_count": null,
   "id": "f1e45fe6",
   "metadata": {},
   "outputs": [],
   "source": [
    "import numpy as np\n",
    "import pandas as pd\n",
    "import matplotlib.pyplot as plt\n",
    "import seaborn as sns"
   ]
  },
  {
   "cell_type": "code",
   "execution_count": null,
   "id": "df3efeb5",
   "metadata": {},
   "outputs": [],
   "source": [
    "df = pd.read_csv(\"../input/cat_train.csv\")"
   ]
  },
  {
   "cell_type": "code",
   "execution_count": 3,
   "id": "d5d11858",
   "metadata": {},
   "outputs": [
    {
     "data": {
      "text/html": [
       "<div>\n",
       "<style scoped>\n",
       "    .dataframe tbody tr th:only-of-type {\n",
       "        vertical-align: middle;\n",
       "    }\n",
       "\n",
       "    .dataframe tbody tr th {\n",
       "        vertical-align: top;\n",
       "    }\n",
       "\n",
       "    .dataframe thead th {\n",
       "        text-align: right;\n",
       "    }\n",
       "</style>\n",
       "<table border=\"1\" class=\"dataframe\">\n",
       "  <thead>\n",
       "    <tr style=\"text-align: right;\">\n",
       "      <th></th>\n",
       "      <th>id</th>\n",
       "      <th>bin_0</th>\n",
       "      <th>bin_1</th>\n",
       "      <th>bin_2</th>\n",
       "      <th>bin_3</th>\n",
       "      <th>bin_4</th>\n",
       "      <th>nom_0</th>\n",
       "      <th>nom_1</th>\n",
       "      <th>nom_2</th>\n",
       "      <th>nom_3</th>\n",
       "      <th>...</th>\n",
       "      <th>nom_9</th>\n",
       "      <th>ord_0</th>\n",
       "      <th>ord_1</th>\n",
       "      <th>ord_2</th>\n",
       "      <th>ord_3</th>\n",
       "      <th>ord_4</th>\n",
       "      <th>ord_5</th>\n",
       "      <th>day</th>\n",
       "      <th>month</th>\n",
       "      <th>target</th>\n",
       "    </tr>\n",
       "  </thead>\n",
       "  <tbody>\n",
       "    <tr>\n",
       "      <th>0</th>\n",
       "      <td>0</td>\n",
       "      <td>0.0</td>\n",
       "      <td>0.0</td>\n",
       "      <td>0.0</td>\n",
       "      <td>F</td>\n",
       "      <td>N</td>\n",
       "      <td>Red</td>\n",
       "      <td>Trapezoid</td>\n",
       "      <td>Hamster</td>\n",
       "      <td>Russia</td>\n",
       "      <td>...</td>\n",
       "      <td>02e7c8990</td>\n",
       "      <td>3.0</td>\n",
       "      <td>Contributor</td>\n",
       "      <td>Hot</td>\n",
       "      <td>c</td>\n",
       "      <td>U</td>\n",
       "      <td>Pw</td>\n",
       "      <td>6.0</td>\n",
       "      <td>3.0</td>\n",
       "      <td>0</td>\n",
       "    </tr>\n",
       "    <tr>\n",
       "      <th>1</th>\n",
       "      <td>1</td>\n",
       "      <td>1.0</td>\n",
       "      <td>1.0</td>\n",
       "      <td>0.0</td>\n",
       "      <td>F</td>\n",
       "      <td>Y</td>\n",
       "      <td>Red</td>\n",
       "      <td>Star</td>\n",
       "      <td>Axolotl</td>\n",
       "      <td>NaN</td>\n",
       "      <td>...</td>\n",
       "      <td>f37df64af</td>\n",
       "      <td>3.0</td>\n",
       "      <td>Grandmaster</td>\n",
       "      <td>Warm</td>\n",
       "      <td>e</td>\n",
       "      <td>X</td>\n",
       "      <td>pE</td>\n",
       "      <td>7.0</td>\n",
       "      <td>7.0</td>\n",
       "      <td>0</td>\n",
       "    </tr>\n",
       "    <tr>\n",
       "      <th>2</th>\n",
       "      <td>2</td>\n",
       "      <td>0.0</td>\n",
       "      <td>1.0</td>\n",
       "      <td>0.0</td>\n",
       "      <td>F</td>\n",
       "      <td>N</td>\n",
       "      <td>Red</td>\n",
       "      <td>NaN</td>\n",
       "      <td>Hamster</td>\n",
       "      <td>Canada</td>\n",
       "      <td>...</td>\n",
       "      <td>NaN</td>\n",
       "      <td>3.0</td>\n",
       "      <td>NaN</td>\n",
       "      <td>Freezing</td>\n",
       "      <td>n</td>\n",
       "      <td>P</td>\n",
       "      <td>eN</td>\n",
       "      <td>5.0</td>\n",
       "      <td>9.0</td>\n",
       "      <td>0</td>\n",
       "    </tr>\n",
       "    <tr>\n",
       "      <th>3</th>\n",
       "      <td>3</td>\n",
       "      <td>NaN</td>\n",
       "      <td>0.0</td>\n",
       "      <td>0.0</td>\n",
       "      <td>F</td>\n",
       "      <td>N</td>\n",
       "      <td>Red</td>\n",
       "      <td>Circle</td>\n",
       "      <td>Hamster</td>\n",
       "      <td>Finland</td>\n",
       "      <td>...</td>\n",
       "      <td>f9d456e57</td>\n",
       "      <td>1.0</td>\n",
       "      <td>Novice</td>\n",
       "      <td>Lava Hot</td>\n",
       "      <td>a</td>\n",
       "      <td>C</td>\n",
       "      <td>NaN</td>\n",
       "      <td>3.0</td>\n",
       "      <td>3.0</td>\n",
       "      <td>0</td>\n",
       "    </tr>\n",
       "    <tr>\n",
       "      <th>4</th>\n",
       "      <td>4</td>\n",
       "      <td>0.0</td>\n",
       "      <td>NaN</td>\n",
       "      <td>0.0</td>\n",
       "      <td>T</td>\n",
       "      <td>N</td>\n",
       "      <td>Red</td>\n",
       "      <td>Triangle</td>\n",
       "      <td>Hamster</td>\n",
       "      <td>Costa Rica</td>\n",
       "      <td>...</td>\n",
       "      <td>c5361037c</td>\n",
       "      <td>3.0</td>\n",
       "      <td>Grandmaster</td>\n",
       "      <td>Cold</td>\n",
       "      <td>h</td>\n",
       "      <td>C</td>\n",
       "      <td>OZ</td>\n",
       "      <td>5.0</td>\n",
       "      <td>12.0</td>\n",
       "      <td>0</td>\n",
       "    </tr>\n",
       "  </tbody>\n",
       "</table>\n",
       "<p>5 rows × 25 columns</p>\n",
       "</div>"
      ],
      "text/plain": [
       "   id  bin_0  bin_1  bin_2 bin_3 bin_4 nom_0      nom_1    nom_2       nom_3  \\\n",
       "0   0    0.0    0.0    0.0     F     N   Red  Trapezoid  Hamster      Russia   \n",
       "1   1    1.0    1.0    0.0     F     Y   Red       Star  Axolotl         NaN   \n",
       "2   2    0.0    1.0    0.0     F     N   Red        NaN  Hamster      Canada   \n",
       "3   3    NaN    0.0    0.0     F     N   Red     Circle  Hamster     Finland   \n",
       "4   4    0.0    NaN    0.0     T     N   Red   Triangle  Hamster  Costa Rica   \n",
       "\n",
       "   ...      nom_9 ord_0        ord_1     ord_2 ord_3 ord_4  ord_5  day month  \\\n",
       "0  ...  02e7c8990   3.0  Contributor       Hot     c     U     Pw  6.0   3.0   \n",
       "1  ...  f37df64af   3.0  Grandmaster      Warm     e     X     pE  7.0   7.0   \n",
       "2  ...        NaN   3.0          NaN  Freezing     n     P     eN  5.0   9.0   \n",
       "3  ...  f9d456e57   1.0       Novice  Lava Hot     a     C    NaN  3.0   3.0   \n",
       "4  ...  c5361037c   3.0  Grandmaster      Cold     h     C     OZ  5.0  12.0   \n",
       "\n",
       "  target  \n",
       "0      0  \n",
       "1      0  \n",
       "2      0  \n",
       "3      0  \n",
       "4      0  \n",
       "\n",
       "[5 rows x 25 columns]"
      ]
     },
     "execution_count": 3,
     "metadata": {},
     "output_type": "execute_result"
    }
   ],
   "source": [
    "df.head()"
   ]
  },
  {
   "cell_type": "code",
   "execution_count": 7,
   "id": "d3b3c54f",
   "metadata": {},
   "outputs": [
    {
     "data": {
      "image/png": "[encoded data removed]",
      "text/plain": [
       "<Figure size 640x480 with 1 Axes>"
      ]
     },
     "metadata": {},
     "output_type": "display_data"
    }
   ],
   "source": [
    "targets = df[\"target\"].value_counts()\n",
    "\n",
    "sns.countplot(x=\"target\", data=df)\n",
    "plt.title(\"Distribution of Target Column\")\n",
    "plt.xlabel(\"Target Classes\")\n",
    "plt.ylabel(\"Count\")\n",
    "plt.show()\n"
   ]
  },
  {
   "cell_type": "markdown",
   "id": "db73e5c0",
   "metadata": {},
   "source": [
    "Clearly, the target column is skewed so we will use AUC as our evaluation metric.\n"
   ]
  },
  {
   "cell_type": "markdown",
   "id": "d4983668",
   "metadata": {},
   "source": [
    "Overall, there are:  \n",
    "- Five binary variables\n",
    "- Ten nominal variables. \n",
    "- Six ordinal variables. \n",
    "- Two cyclic variables. \n",
    "- And a target variable. "
   ]
  },
  {
   "cell_type": "code",
   "execution_count": 11,
   "id": "6fc23c88",
   "metadata": {},
   "outputs": [
    {
     "data": {
      "text/plain": [
       "ord_2\n",
       "Freezing       142726\n",
       "Warm           124239\n",
       "Cold            97822\n",
       "Boiling Hot     84790\n",
       "Hot             67508\n",
       "Lava Hot        64840\n",
       "Name: count, dtype: int64"
      ]
     },
     "execution_count": 11,
     "metadata": {},
     "output_type": "execute_result"
    }
   ],
   "source": [
    "df[\"ord_2\"].value_counts()"
   ]
  },
  {
   "cell_type": "markdown",
   "id": "cbb1bdb2",
   "metadata": {},
   "source": [
    "We have to know that computers do not understand text data and thus, we need to\n",
    "convert these categories to numbers. A simple way of doing this would be to create\n",
    "a dictionary that maps these values to numbers starting from 0 to N-1, where N is\n",
    "the total number of categories in a given feature."
   ]
  },
  {
   "cell_type": "code",
   "execution_count": 12,
   "id": "416c1a91",
   "metadata": {},
   "outputs": [],
   "source": [
    "mapping = {\n",
    "    \"Freezing\": 0,\n",
    "    \"Warm\": 1,\n",
    "    \"Cold\": 2,\n",
    "    \"Boiling Hot\": 3,\n",
    "    \"Hot\": 4,\n",
    "    \"Lava Hot\": 5\n",
    "}"
   ]
  },
  {
   "cell_type": "code",
   "execution_count": 13,
   "id": "2e1b8b81",
   "metadata": {},
   "outputs": [],
   "source": [
    "df.loc[:, \"ord_2\"] = df.ord_2.map(mapping)"
   ]
  },
  {
   "cell_type": "code",
   "execution_count": 14,
   "id": "34deb99c",
   "metadata": {},
   "outputs": [
    {
     "data": {
      "text/plain": [
       "ord_2\n",
       "0.0    142726\n",
       "1.0    124239\n",
       "2.0     97822\n",
       "3.0     84790\n",
       "4.0     67508\n",
       "5.0     64840\n",
       "Name: count, dtype: int64"
      ]
     },
     "execution_count": 14,
     "metadata": {},
     "output_type": "execute_result"
    }
   ],
   "source": [
    "df.ord_2.value_counts()"
   ]
  },
  {
   "cell_type": "markdown",
   "id": "bd928708",
   "metadata": {},
   "source": [
    "This type of encoding of categorical variables is known as Label Encoding, i.e.,\n",
    "we are encoding every category as a numerical label.\n",
    "\n",
    "We can do the same by using LabelEncoder from scikit-learn"
   ]
  },
  {
   "cell_type": "code",
   "execution_count": null,
   "id": "005e7eb1",
   "metadata": {},
   "outputs": [],
   "source": [
    "import pandas\n",
    "from sklearn import preprocessing\n",
    "\n",
    "# read the data\n",
    "df = pd.read_csv(\"../input/cat_train.csv\")\n",
    "\n",
    "# fill NaN values in ord_2 column\n",
    "df.loc[:, \"ord_2\"] = df.ord_2.fillna(\"NONE\")\n",
    "\n",
    "# initialize LabelEncoder\n",
    "lbl_enc = preprocessing.LabelEncoder()\n",
    "\n",
    "# fit label encoder and transform values on ord_2 column\n",
    "# P.S: do not use this directly. fit first, then transform\n",
    "df.loc[:, \"ord_2\"] = lbl_enc.fit_transform(df.ord_2.values)"
   ]
  },
  {
   "cell_type": "code",
   "execution_count": null,
   "id": "8f0615a5",
   "metadata": {},
   "outputs": [
    {
     "data": {
      "text/plain": [
       "ord_2\n",
       "2    142726\n",
       "6    124239\n",
       "1     97822\n",
       "0     84790\n",
       "3     67508\n",
       "4     64840\n",
       "5     18075\n",
       "Name: count, dtype: int64"
      ]
     },
     "execution_count": 18,
     "metadata": {},
     "output_type": "execute_result"
    }
   ],
   "source": [
    "df[\"ord_2\"].value_counts()"
   ]
  },
  {
   "cell_type": "markdown",
   "id": "f876a055",
   "metadata": {},
   "source": [
    "📌 Label Encoding & Model Compatibility\n",
    "\n",
    "\n",
    "✅ Works well with Tree-based models\n",
    "\n",
    "- Models: Decision Trees, Random Forest, Extra Trees, XGBoost, LightGBM, GBM\n",
    "- Reason: Trees only split on feature values (<= threshold) → they don’t assume numeric distance has meaning.\n",
    "- Example: Encoded as Cold=0, Hot=1, Warm=2 → tree just checks splits like ord_2 <= 0.5.\n",
    "\n",
    "❌ Not suitable for Linear, SVM, Neural Nets\n",
    "\n",
    "- Models: Linear/Logistic Regression, SVM, Neural Networks\n",
    "- Reason: These models treat numbers as continuous with order & distance.\n",
    "- Warm=2 looks \"twice as hot\" as Hot=1 → introduces fake ordinal relationships.\n",
    "- Fix: Use One-Hot Encoding (or embeddings for NN).\n",
    "\n",
    "📊 Normalization / Standardization\n",
    "\n",
    "- Normalization: scale features to [0, 1].\n",
    "- Standardization: rescale features to mean = 0, std = 1.\n",
    "- Needed for linear/SVM/NN → ensures features are on the same scale for optimization & distance calculations.\n",
    "- Not needed for tree models.\n",
    "\n",
    "👍🏻 Thumb Rule: \n",
    "- Tree models → LabelEncoder (fine).\n",
    "- Linear/SVM/NN → One-Hot Encoding + Normalization/Standardization."
   ]
  },
  {
   "cell_type": "markdown",
   "id": "3043b44d",
   "metadata": {},
   "source": [
    "For Models like LR, SVM and NN, we can binarize the data \n",
    "- Freezing      --> 0 --> 0 0 0\n",
    "- Warm          --> 1 --> 0 0 1\n",
    "- Cold          --> 2 --> 0 1 0\n",
    "- Boiling Hot   --> 3 --> 0 1 1\n",
    "- Hot           --> 4 --> 1 0 0\n",
    "- Lava Hot      --> 5 --> 1 0 1"
   ]
  },
  {
   "cell_type": "code",
   "execution_count": 21,
   "id": "91c067ff",
   "metadata": {},
   "outputs": [
    {
     "name": "stdout",
     "output_type": "stream",
     "text": [
      "72\n"
     ]
    }
   ],
   "source": [
    "import numpy as np\n",
    "\n",
    "# create our example feature matrix\n",
    "example = np.array(\n",
    "    [\n",
    "        [0, 0, 1],\n",
    "        [1, 0, 0],\n",
    "        [1, 0, 1]\n",
    "    ]\n",
    ")\n",
    "\n",
    "# print size in bytes\n",
    "print(example.nbytes)"
   ]
  },
  {
   "cell_type": "markdown",
   "id": "246a07cc",
   "metadata": {},
   "source": [
    "#### **Sparse Format**\n",
    "\n",
    "A sparse format is nothing but a representation or way of storing\n",
    "data in memory in which you do not store all the values but only the values that\n",
    "matter. For e.g., positions of ones"
   ]
  },
  {
   "cell_type": "code",
   "execution_count": 19,
   "id": "93c18dd5",
   "metadata": {},
   "outputs": [
    {
     "name": "stdout",
     "output_type": "stream",
     "text": [
      "32\n"
     ]
    }
   ],
   "source": [
    "import numpy as np\n",
    "from scipy import sparse\n",
    "\n",
    "# create our example feature matrix\n",
    "example = np.array(\n",
    "    [\n",
    "        [0, 0, 1],\n",
    "        [1, 0, 0],\n",
    "        [1, 0, 1]\n",
    "    ]\n",
    ")\n",
    "\n",
    "# convert numpy array to sparse CSR matrix\n",
    "sparse_example = sparse.csr_matrix(example)\n",
    "\n",
    "# print size of this sparse matrix\n",
    "print(sparse_example.data.nbytes)"
   ]
  },
  {
   "cell_type": "code",
   "execution_count": 23,
   "id": "a336187a",
   "metadata": {},
   "outputs": [
    {
     "name": "stdout",
     "output_type": "stream",
     "text": [
      "<Compressed Sparse Row sparse matrix of dtype 'int64'\n",
      "\twith 4 stored elements and shape (3, 3)>\n",
      "  Coords\tValues\n",
      "  (0, 2)\t1\n",
      "  (1, 0)\t1\n",
      "  (2, 0)\t1\n",
      "  (2, 2)\t1\n"
     ]
    }
   ],
   "source": [
    "print(sparse_example)"
   ]
  },
  {
   "cell_type": "code",
   "execution_count": 20,
   "id": "a2c18f47",
   "metadata": {},
   "outputs": [
    {
     "name": "stdout",
     "output_type": "stream",
     "text": [
      "64\n"
     ]
    }
   ],
   "source": [
    "print(\n",
    "    sparse_example.data.nbytes +\n",
    "    sparse_example.indptr.nbytes +\n",
    "    sparse_example.indices.nbytes\n",
    ")"
   ]
  },
  {
   "cell_type": "code",
   "execution_count": null,
   "id": "ac2d672c",
   "metadata": {},
   "outputs": [],
   "source": [
    "# Following code will take a lot of space so I am just putting it here, but I wont run it\n",
    "\n",
    "# import numpy as np\n",
    "# from scipy import sparse \n",
    "\n",
    "# # number of rows\n",
    "# n_rows = 10000\n",
    "\n",
    "# # number of columns\n",
    "# n_cols = 100000\n",
    "\n",
    "# # create random binary matrix with only 5% values as 1s\n",
    "# example = np.random.binomial(1, p=0.05, size=(n_rows, n_cols))\n",
    "\n",
    "# # print size in bytes\n",
    "# print(f\"Size of dense array: {example.nbytes}\")\n",
    "\n",
    "# # convert numpy array to sparse CSR matrix\n",
    "# sparse_example = sparse.csr_matrix(example)\n",
    "\n",
    "# # print size of this sparse matrix\n",
    "# print(f\"Size of sparse array: {sparse_example.data.nbytes}\")\n",
    "# full_size = (\n",
    "#     sparse_example.data.nbytes +\n",
    "#     sparse_example.indptr.nbytes +\n",
    "#     sparse_example.indices.nbytes\n",
    "#     )\n",
    "\n",
    "# # print full size of this sparse matrix\n",
    "# print(f\"Full size of sparse array: {full_size}\")"
   ]
  },
  {
   "cell_type": "markdown",
   "id": "521dec66",
   "metadata": {},
   "source": [
    "This prints:  \n",
    "Size of dense array: 8000000000.    \n",
    "Size of sparse array: 399932496.     \n",
    "Full size of sparse array: 599938748. \n",
    "\n",
    "\n",
    "So, dense array takes ~8000MB or approximately 8GB of memory. The sparse\n",
    "array, on the other hand, takes only 399MB of memory."
   ]
  },
  {
   "cell_type": "markdown",
   "id": "cbcf611b",
   "metadata": {},
   "source": [
    "### One-Hot Encoding\n",
    "\n",
    "**One-Hot Encoding** creates one column for each category, marking the presence of a category with a 1 and all others with 0. It’s faster and clearer when categories are few.   \n",
    "**Binary Encoding** assigns each category a unique number and then represents it in binary form, which uses fewer columns and is faster for large category sets but mixes information across bits."
   ]
  },
  {
   "cell_type": "code",
   "execution_count": 24,
   "id": "80829bcf",
   "metadata": {},
   "outputs": [
    {
     "name": "stdout",
     "output_type": "stream",
     "text": [
      "Size of dense array: 144\n",
      "Size of sparse array: 24\n",
      "Full size of sparse array: 52\n"
     ]
    }
   ],
   "source": [
    "import numpy as np\n",
    "from scipy import sparse\n",
    "\n",
    "# create binary matrix\n",
    "example = np.array(\n",
    "    [\n",
    "        [0, 0, 0, 0, 1, 0],\n",
    "        [0, 1, 0, 0, 0, 0],\n",
    "        [1, 0, 0, 0, 0, 0]\n",
    "    ]\n",
    ")\n",
    "\n",
    "# print size in bytes\n",
    "print(f\"Size of dense array: {example.nbytes}\")\n",
    "\n",
    "# convert numpy array to sparse CSR matrix\n",
    "sparse_example = sparse.csr_matrix(example)\n",
    "\n",
    "# print size of this sparse matrix\n",
    "print(f\"Size of sparse array: {sparse_example.data.nbytes}\")\n",
    "full_size = (\n",
    "    sparse_example.data.nbytes +\n",
    "    sparse_example.indptr.nbytes +\n",
    "    sparse_example.indices.nbytes\n",
    ")\n",
    "\n",
    "# print full size of this sparse matrix\n",
    "print(f\"Full size of sparse array: {full_size}\")"
   ]
  },
  {
   "cell_type": "code",
   "execution_count": null,
   "id": "3221b8ed",
   "metadata": {},
   "outputs": [],
   "source": [
    "# This will again take a lot of storage so I won't run it \n",
    "\n",
    "# import numpy as np\n",
    "# from sklearn import preprocessing\n",
    "\n",
    "# # create random 1-d array with 1001 different categories (int)\n",
    "# example = np.random.randint(1000, size=1000000)\n",
    "\n",
    "# # initialize OneHotEncoder from scikit-learn\n",
    "# # keep sparse = False to get dense array\n",
    "# ohe = preprocessing.OneHotEncoder(sparse=False)\n",
    "\n",
    "# # fit and transform data with dense one hot encoder\n",
    "# ohe_example = ohe.fit_transform(example.reshape(-1, 1))\n",
    "\n",
    "# # print size in bytes for dense array\n",
    "# print(f\"Size of dense array: {ohe_example.nbytes}\")\n",
    "\n",
    "# # initialize OneHotEncoder from scikit-learn\n",
    "# # keep sparse = True to get sparse array\n",
    "# ohe = preprocessing.OneHotEncoder(sparse=True)\n",
    "\n",
    "# # fit and transform data with sparse one-hot encoder\n",
    "# ohe_example = ohe.fit_transform(example.reshape(-1, 1))\n",
    "\n",
    "# # print size of this sparse matrix\n",
    "# print(f\"Size of sparse array: {ohe_example.data.nbytes}\")\n",
    "# full_size = (\n",
    "#     ohe_example.data.nbytes +\n",
    "#     ohe_example.indptr.nbytes + ohe_example.indices.nbytes\n",
    "# )\n",
    "\n",
    "# # print full size of this sparse matrix\n",
    "# print(f\"Full size of sparse array: {full_size}\")"
   ]
  },
  {
   "cell_type": "markdown",
   "id": "baf90226",
   "metadata": {},
   "source": [
    "And this code prints:  \n",
    "Size of dense array: 8000000000. \n",
    "Size of sparse array: 8000000. \n",
    "Full size of sparse array: 16000004. \n",
    "\n",
    "Dense array size here is approximately 8GB and sparse array is 8MB."
   ]
  },
  {
   "cell_type": "markdown",
   "id": "fe98345c",
   "metadata": {},
   "source": [
    "* Besides Label Encoding, Binarization, and One-Hot Encoding, categorical variables can also be converted to numerical features.\n",
    "\n",
    "* Example: Count how many times a category appears (e.g., `ord_2 = \"Boiling Hot\"` appears 84,790 times).\n",
    "\n",
    "* Use `groupby` + `transform` in pandas to replace categorical values with their counts.\n",
    "\n",
    "* Can group by multiple columns (e.g., `ord_1` and `ord_2`) and count occurrences → adds richer numerical features.\n",
    "\n",
    "* Instead of replacing, counts can also be added as new features.\n",
    "\n",
    "* New categorical features can be created by combining existing features (e.g., `ord_1 + \"_\" + ord_2`).\n",
    "\n",
    "* Even NaN values can be treated as a valid category in such combinations.\n",
    "\n",
    "* No fixed rule on which categories to combine → depends on domain knowledge and data context.\n",
    "\n",
    "* Greedy approach: create many feature combinations, let the model decide which ones are useful.\n"
   ]
  },
  {
   "cell_type": "markdown",
   "id": "d5857184",
   "metadata": {},
   "source": [
    "Whenever you get categorical variables, follow these simple steps:  \n",
    "\n",
    "* **Step 1:** Fill missing values (very important).\n",
    "* **Step 2:** Encode categories into numbers.\n",
    "  * For **Tree-based models (RF, XGBoost, LightGBM, CatBoost)** → use **Label Encoding**.\n",
    "  * For **Linear models, SVM, Neural Networks** → use **One-Hot Encoding** (or embeddings).\n",
    "* **Step 3:** Train your model with the chosen encoding.\n",
    "\n",
    "👉 **Shortcut:** If you already know you’ll one-hot encode, you don’t need to label encode first — tools like `pd.get_dummies` or `OneHotEncoder` can handle string categories directly.\n",
    "\n",
    "Handling NaN data in categorical features is quite essential else you can get the\n",
    "infamous error from scikit-learn’s LabelEncoder:\n",
    "\n",
    "```\n",
    "ValueError: y contains previously unseen labels: [nan, nan, nan, nan, nan, nan, nan, nan]\n",
    "```\n",
    "\n",
    "* NaN values in test data usually mean you forgot to handle them during training.\n",
    "* ❌ Dropping rows with NaNs is simple but not ideal → you lose information.\n",
    "* ⚠️ If many rows have NaNs, dropping is not even possible.\n",
    "* ✅ Best practice: **treat NaNs as a new category** (e.g., \"Unknown\") → easy to do with pandas.\n"
   ]
  },
  {
   "cell_type": "code",
   "execution_count": 26,
   "id": "4a156a56",
   "metadata": {},
   "outputs": [
    {
     "data": {
      "text/plain": [
       "ord_2\n",
       "2    142726\n",
       "6    124239\n",
       "1     97822\n",
       "0     84790\n",
       "3     67508\n",
       "4     64840\n",
       "5     18075\n",
       "Name: count, dtype: int64"
      ]
     },
     "execution_count": 26,
     "metadata": {},
     "output_type": "execute_result"
    }
   ],
   "source": [
    "df.ord_2.value_counts()"
   ]
  },
  {
   "cell_type": "markdown",
   "id": "7e1f6998",
   "metadata": {},
   "source": [
    "* Adding NaNs as a category increases total categories (e.g., from 6 → 7), which is fine since it adds useful info.\n",
    "* **Rare categories** = categories that are unseen in training or appear very few times.\n",
    "* If unseen categories appear in production, pipeline will throw an error → must handle them.\n",
    "* Solutions for rare/unseen categories:\n",
    "\n",
    "  * Treat them as a new \"rare\" category.\n",
    "  * Predict them using a model (e.g., nearest neighbour).\n",
    "  * Train an auxiliary model to predict missing/rare values (may or may not work well).\n",
    "  * Concatenate **train + test data** to capture rare categories (semi-supervised style).\n",
    "* Concern: possible overfitting.\n",
    "* Fix: use **proper cross-validation** that mimics test-time scenario (ensure validation folds include unseen categories just like test).\n"
   ]
  },
  {
   "cell_type": "code",
   "execution_count": 27,
   "id": "2e65a4f1",
   "metadata": {},
   "outputs": [],
   "source": [
    "import pandas as pd\n",
    "from sklearn import preprocessing\n",
    "\n",
    "# read training data\n",
    "train = pd.read_csv(\"../input/cat_train.csv\")\n",
    "\n",
    "#read test data\n",
    "test = pd.read_csv(\"../input/cat_test.csv\")\n",
    "\n",
    "# create a fake target column for test data\n",
    "# since this column doesn't exist\n",
    "test.loc[:, \"target\"] = -1\n",
    "\n",
    "# concatenate both training and test data\n",
    "data = pd.concat([train, test]).reset_index(drop=True)\n",
    "\n",
    "# make a list of features we are interested in\n",
    "# id and target is something we should not encode\n",
    "features = [x for x in train.columns if x not in [\"id\", \"target\"]]\n",
    "\n",
    "# loop over the features list\n",
    "for feat in features:\n",
    "    # create a new instance of LabelEncoder for each feature\n",
    "    lbl_enc = preprocessing.LabelEncoder()\n",
    "\n",
    "    # note the trick here\n",
    "    # since its categorical data, we fillna with a string\n",
    "    # and we convert all the data to string type\n",
    "    # so, no matter its int or float, its converted to string\n",
    "    # int/float but categorical!!!\n",
    "    temp_col = data[feat].fillna(\"NONE\").astype(str).values\n",
    "    \n",
    "    # we can use fit_transform here as we do not\n",
    "    # have any extra test data that we need to\n",
    "    # transform on separately\n",
    "    data.loc[:, feat] = lbl_enc.fit_transform(temp_col)\n",
    "\n",
    "# split the training and test data again\n",
    "train = data[data.target != -1].reset_index(drop=True)\n",
    "test = data[data.target == -1].reset_index(drop=True)"
   ]
  },
  {
   "cell_type": "markdown",
   "id": "8f519b43",
   "metadata": {},
   "source": [
    "* The concatenate train + test trick works only when you already know the full test set in advance (like in Kaggle competitions).\n",
    "* But in real-world production (live systems like RTB), you don’t know future test data → new categories (like a new page on a website) can suddenly appear.\n",
    "* If you only used the concatenation trick, your encoder won’t know what to do with those new/unseen categories → the model will fail.\n",
    "* The safer solution in production = always reserve an \"unknown\" category in your encoding, so that any unseen value can be mapped there instead of breaking the model. \n",
    "\n",
    "\n",
    "* Map **missing values → \"NONE\"** and **rare/unseen categories → \"RARE\"**.\n",
    "* This makes the model robust to **new categories** in live/test data.\n"
   ]
  },
  {
   "cell_type": "code",
   "execution_count": null,
   "id": "dfb46be8",
   "metadata": {},
   "outputs": [],
   "source": []
  }
 ],
 "metadata": {
  "kernelspec": {
   "display_name": ".venv (3.13.6)",
   "language": "python",
   "name": "python3"
  },
  "language_info": {
   "codemirror_mode": {
    "name": "ipython",
    "version": 3
   },
   "file_extension": ".py",
   "mimetype": "text/x-python",
   "name": "python",
   "nbconvert_exporter": "python",
   "pygments_lexer": "ipython3",
   "version": "3.13.6"
  }
 },
 "nbformat": 4,
 "nbformat_minor": 5
}
